{
 "cells": [
  {
   "cell_type": "code",
   "execution_count": 36,
   "metadata": {},
   "outputs": [
    {
     "name": "stdout",
     "output_type": "stream",
     "text": [
      "671.4629471031477\n",
      "666.6666666666666\n"
     ]
    }
   ],
   "source": [
    "import math\n",
    "n = 100\n",
    "a = 0\n",
    "fast_sum = lambda x: (2*(x**(3/2)))/3\n",
    "for i in range(n+1):\n",
    "    a+=abs(math.sqrt(i))\n",
    "print(a)\n",
    "print(fast_sum(n))"
   ]
  }
 ],
 "metadata": {
  "kernelspec": {
   "display_name": "Python 3",
   "language": "python",
   "name": "python3"
  },
  "language_info": {
   "codemirror_mode": {
    "name": "ipython",
    "version": 3
   },
   "file_extension": ".py",
   "mimetype": "text/x-python",
   "name": "python",
   "nbconvert_exporter": "python",
   "pygments_lexer": "ipython3",
   "version": "3.11.3"
  },
  "orig_nbformat": 4
 },
 "nbformat": 4,
 "nbformat_minor": 2
}
